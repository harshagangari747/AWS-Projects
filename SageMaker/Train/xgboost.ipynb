{
 "cells": [
  {
   "cell_type": "code",
   "execution_count": null,
   "id": "ad130f23-692c-4005-9c5d-73fa6be4dea7",
   "metadata": {},
   "outputs": [],
   "source": [
    "# Demo\n",
    "from sagemaker.estimator import Estimator\n",
    "import sagemaker\n",
    "from sagemaker import image_uris\n",
    "\n",
    "\n",
    "role = sagemaker.get_execution_role()\n",
    "bucket = 'gallstone-prediction'\n",
    "xgboost_image = image_uris.retrieve(\n",
    "    framework='xgboost',\n",
    "    region='ap-south-1',\n",
    "    version='1.5-1'\n",
    ")\n",
    "\n",
    "estimator = Estimator(\n",
    "    image_uri=xgboost_image,\n",
    "    role=role,\n",
    "    instance_count=1,\n",
    "    instance_type='ml.m5.large',\n",
    "    entry_point='train.py',\n",
    "    source_dir='.',\n",
    "    base_job_name='gallstone-xgb'\n",
    ")\n",
    "\n",
    "estimator.fit({'train': f's3://{bucket}/train.csv',\n",
    "               'val': f's3://{bucket}/val.csv'})\n"
   ]
  },
  {
   "cell_type": "code",
   "execution_count": null,
   "id": "94f392d6",
   "metadata": {},
   "outputs": [],
   "source": [
    "# Import the model\n",
    "from sagemaker.model import Model\n",
    "\n",
    "model_data = 's3://sagemaker-ap-south-1-XXXXXXXXXXXX/gallstone-xgb-2025-08-31-00-11-14-026/output/model.tar.gz'\n",
    "\n",
    "xgb_model = Model(image_uri=xgboost_image,\n",
    "                  model_data=model_data,\n",
    "                  role=role,\n",
    "                  entry_point='inference.py',\n",
    "                  source_dir='./',\n",
    "                  sagemaker_session=sagemaker.Session()\n",
    "                 )\n"
   ]
  },
  {
   "cell_type": "code",
   "execution_count": null,
   "id": "3e21e153",
   "metadata": {},
   "outputs": [],
   "source": [
    "#Deploy the endpoint\n",
    "\n",
    "predictor = xgb_model.deploy(\n",
    "    initial_instance_count=1,\n",
    "    instance_type='ml.t2.medium',\n",
    "    endpoint_name='gallstone'\n",
    ")"
   ]
  },
  {
   "cell_type": "code",
   "execution_count": null,
   "id": "893e7c4f",
   "metadata": {},
   "outputs": [],
   "source": [
    "predictor.delete_endpoint(EndpointName='gallstone')"
   ]
  }
 ],
 "metadata": {
  "kernelspec": {
   "display_name": "conda_pytorch_p310",
   "language": "python",
   "name": "conda_pytorch_p310"
  },
  "language_info": {
   "codemirror_mode": {
    "name": "ipython",
    "version": 3
   },
   "file_extension": ".py",
   "mimetype": "text/x-python",
   "name": "python",
   "nbconvert_exporter": "python",
   "pygments_lexer": "ipython3",
   "version": "3.10.18"
  }
 },
 "nbformat": 4,
 "nbformat_minor": 5
}
